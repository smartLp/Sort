{
 "cells": [
  {
   "cell_type": "markdown",
   "metadata": {},
   "source": [
    "# 几种常见的排序算法"
   ]
  },
  {
   "cell_type": "markdown",
   "metadata": {},
   "source": [
    "## 1.插入排序"
   ]
  },
  {
   "cell_type": "code",
   "execution_count": 2,
   "metadata": {
    "collapsed": false
   },
   "outputs": [
    {
     "name": "stdout",
     "output_type": "stream",
     "text": [
      "Total time running insertedsort: 0.309000015259 seconds\n",
      "[0, 1, 2, 3, 5, 7, 7, 9, 10]\n"
     ]
    }
   ],
   "source": [
    "\n",
    "\n",
    "import time\n",
    "from functools import wraps\n",
    " \n",
    "def fn_timer(function):\n",
    "  @wraps(function)\n",
    "  def function_timer(*args, **kwargs):\n",
    "    t0 = time.time()\n",
    "    for i in range(100000): \n",
    "        \n",
    "        result = function(*args, **kwargs)\n",
    "    t1 = time.time()\n",
    "    print (\"Total time running %s: %s seconds\" %\n",
    "        (function.func_name, str(t1-t0))\n",
    "        )\n",
    "    return result\n",
    "  return function_timer\n",
    "\n",
    "@fn_timer\n",
    "def insertedsort(l):\n",
    "    for i in range(1,len(l)):\n",
    "        j = i-1\n",
    "        while l[i]<l[j] and j>-1:\n",
    "            key = l[i]\n",
    "            l[j+1] = l[j]\n",
    "            i = j\n",
    "            l[i] = key\n",
    "            j -= 1\n",
    "                \n",
    "    return l\n",
    "if __name__ == \"__main__\":\n",
    "    l = [3,2,5,1,7,9,7,0,10]\n",
    "    result = insertedsort(l)\n",
    "    print (result)\n",
    "                "
   ]
  },
  {
   "cell_type": "code",
   "execution_count": null,
   "metadata": {
    "collapsed": false
   },
   "outputs": [],
   "source": [
    "\n"
   ]
  },
  {
   "cell_type": "code",
   "execution_count": 3,
   "metadata": {
    "collapsed": false
   },
   "outputs": [
    {
     "name": "stdout",
     "output_type": "stream",
     "text": [
      "Total time running insertedsorted: 1.13999986649 seconds\n",
      "[0, 1, 2, 3, 5, 7, 7, 9, 10]\n"
     ]
    }
   ],
   "source": [
    "@fn_timer\n",
    "def insertedsorted(l):\n",
    "    for i in range(1,len(l)):\n",
    "        for j in range(i-1,-1,-1):\n",
    "            \n",
    "        \n",
    "            while l[i]<l[j]:\n",
    "                key = l[i]\n",
    "                l[j+1] = l[j]\n",
    "                i = j\n",
    "                l[i] = key\n",
    "        \n",
    "                \n",
    "    return l\n",
    "\n",
    "if __name__ == \"__main__\":\n",
    "    l = [3,2,5,1,7,9,7,0,10]\n",
    "    result = insertedsorted(l)\n",
    "    print (result)\n",
    "                "
   ]
  },
  {
   "cell_type": "code",
   "execution_count": null,
   "metadata": {
    "collapsed": false
   },
   "outputs": [],
   "source": []
  },
  {
   "cell_type": "markdown",
   "metadata": {},
   "source": [
    "## 2.冒泡排序"
   ]
  },
  {
   "cell_type": "code",
   "execution_count": 4,
   "metadata": {
    "collapsed": false
   },
   "outputs": [
    {
     "name": "stdout",
     "output_type": "stream",
     "text": [
      "Total time running insertedsort: 0.240000009537 seconds\n",
      "[0, 1, 2, 3, 5, 7, 7, 9, 10]\n"
     ]
    }
   ],
   "source": [
    "@fn_timer\n",
    "def maopaosort(l):\n",
    "    for index in range(len(l)-1):\n",
    "        if l[index]>l[index+1]:\n",
    "            l[index],l[index+1] = l[index+1],l[index]\n",
    "    return l\n",
    "if __name__ == \"__main__\":\n",
    "    l = [3,2,5,1,7,9,7,0,10]\n",
    "    result = insertedsort(l)\n",
    "    print result    \n",
    "    "
   ]
  },
  {
   "cell_type": "markdown",
   "metadata": {},
   "source": [
    "## 3. 快速排序"
   ]
  },
  {
   "cell_type": "code",
   "execution_count": 1,
   "metadata": {
    "collapsed": false
   },
   "outputs": [
    {
     "name": "stdout",
     "output_type": "stream",
     "text": [
      "[0, 1, 2, 3, 5, 7, 7, 9, 10]\n"
     ]
    }
   ],
   "source": [
    "'''\n",
    "def QuickSort(l,front,end):\n",
    "    if front < end:\n",
    "        pivot_index = Partition(l,front,end)\n",
    "        QuickSort(l,front,pivot_index-1)\n",
    "        QuickSort(l,pivot_index+1,end)\n",
    "    return l\n",
    "    \n",
    "def Partition(l,front,end):\n",
    "    pivot = l[end]\n",
    "    i = front - 1\n",
    "    for j in range(end):\n",
    "        if l[j] < pivot:\n",
    "            i += 1\n",
    "            l[i],l[j] = l[j],l[i]\n",
    "    l[i+1],l[end]=l[end],l[i+1]\n",
    "    return i+1\n",
    "\n",
    "def main():\n",
    "    l = [3,2,5,1,7,9,7,0,6] \n",
    "    index = range(len(l))\n",
    "    print index[0],index[-1]\n",
    "    result = QuickSort(l,index[0],index[-1])\n",
    "    print result\n",
    "\n",
    "    \n",
    "    \n",
    "if __name__ == \"__main__\":\n",
    "    main()\n",
    "'''\n",
    "\n",
    "def QuickSort(Arr):\n",
    "    if len(Arr) <= 1:\n",
    "        return Arr\n",
    "    else:\n",
    "        pivot = Arr[-1]\n",
    "        LessThan_pivot = [element for element in Arr[:-1] if element <= pivot]\n",
    "        GreatThan_pivot = [element for element in Arr[:-1] if element > pivot]\n",
    "        return QuickSort(LessThan_pivot) + [pivot] + QuickSort(GreatThan_pivot)\n",
    "\n",
    "if __name__ == \"__main__\":\n",
    "    l = [3,2,5,1,7,9,7,0,10]\n",
    "    result = QuickSort(l)\n",
    "    print result\n",
    "\n",
    "    "
   ]
  },
  {
   "cell_type": "markdown",
   "metadata": {
    "collapsed": false
   },
   "source": [
    "## 4.归并排序\n"
   ]
  },
  {
   "cell_type": "code",
   "execution_count": null,
   "metadata": {
    "collapsed": true
   },
   "outputs": [],
   "source": []
  }
 ],
 "metadata": {
  "anaconda-cloud": {},
  "kernelspec": {
   "display_name": "Python [Root]",
   "language": "python",
   "name": "Python [Root]"
  },
  "language_info": {
   "codemirror_mode": {
    "name": "ipython",
    "version": 2
   },
   "file_extension": ".py",
   "mimetype": "text/x-python",
   "name": "python",
   "nbconvert_exporter": "python",
   "pygments_lexer": "ipython2",
   "version": "2.7.12"
  }
 },
 "nbformat": 4,
 "nbformat_minor": 0
}
